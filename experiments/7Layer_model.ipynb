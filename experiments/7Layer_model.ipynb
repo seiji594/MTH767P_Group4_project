{
 "cells": [
  {
   "cell_type": "code",
   "execution_count": 2,
   "id": "837a1cf3",
   "metadata": {
    "id": "837a1cf3"
   },
   "outputs": [],
   "source": [
    "import matplotlib\n",
    "import pandas as pd\n",
    "import numpy as np\n",
    "import matplotlib.pyplot as plt\n",
    "from tqdm import tqdm\n",
    "\n",
    "import torch\n",
    "import torchvision\n",
    "import torch.nn as nn\n",
    "import torch.nn.functional as F\n",
    "import torch.optim as optim\n",
    "import torchvision.transforms as transforms\n",
    "\n",
    "import torch.utils.data\n",
    "from torch.utils.data import DataLoader\n",
    "from collections import Counter\n",
    "\n",
    "from utils import EmotionsDataset, SimpleNet, AttentionalNet"
   ]
  },
  {
   "cell_type": "code",
   "execution_count": 3,
   "id": "efc90e2d",
   "metadata": {
    "id": "efc90e2d"
   },
   "outputs": [],
   "source": [
    "# define dictionary for emotions\n",
    "emotion_dict = {0: 'Angry', \n",
    "                1: 'Disgust', \n",
    "                2: 'Fear',\n",
    "                3: 'Happy', \n",
    "                4: 'Sad',\n",
    "                5: 'Surprise',\n",
    "                6: 'Neutral'}"
   ]
  },
  {
   "cell_type": "code",
   "execution_count": 4,
   "id": "a17f1916",
   "metadata": {
    "colab": {
     "base_uri": "https://localhost:8080/"
    },
    "id": "a17f1916",
    "outputId": "8566ee3c-b43c-47bc-f20b-15c435e4e2b5"
   },
   "outputs": [
    {
     "name": "stdout",
     "output_type": "stream",
     "text": [
      "Loading dataset...\tDone\n",
      "Loading dataset...\tDone\n",
      "Loading dataset...\tDone\n"
     ]
    }
   ],
   "source": [
    "batch_size = 128\n",
    "transform = transforms.Compose([transforms.ToTensor(), transforms.Normalize((0.5), (0.5))])\n",
    "dataset_train = EmotionsDataset(root='./dataset', fname='icml_face_data_train.csv', transform=transform)\n",
    "dataset_validation = EmotionsDataset(root='./dataset', fname='icml_face_data_validation.csv', transform=transform)\n",
    "dataset_test = EmotionsDataset(root='./dataset', fname='icml_face_data_test.csv', transform=transform)"
   ]
  },
  {
   "cell_type": "code",
   "execution_count": 5,
   "id": "Az08yAzC9d8l",
   "metadata": {
    "id": "Az08yAzC9d8l"
   },
   "outputs": [],
   "source": [
    "torch.manual_seed(0)\n",
    "trainloader = DataLoader(dataset_train, batch_size = batch_size,shuffle=True)\n",
    "valloader = DataLoader(dataset_validation, batch_size = batch_size,shuffle=True)\n",
    "testloader = DataLoader(dataset_test, batch_size = batch_size)"
   ]
  },
  {
   "cell_type": "code",
   "execution_count": 7,
   "id": "e724d030",
   "metadata": {
    "id": "e724d030"
   },
   "outputs": [],
   "source": [
    "class Face_Emotion_CNN(nn.Module):\n",
    "    def __init__(self):\n",
    "        super(Face_Emotion_CNN, self).__init__()\n",
    "        self.cnn1 = nn.Conv2d(in_channels=1, out_channels=32, kernel_size=5,padding=3)\n",
    "        self.cnn2 = nn.Conv2d(in_channels=32, out_channels=32, kernel_size=4,padding=2)\n",
    "        self.cnn3 = nn.Conv2d(in_channels=32, out_channels=64, kernel_size=5,padding=3)\n",
    "        self.cnn4 = nn.Conv2d(in_channels=64, out_channels=128,kernel_size=5,padding=3)\n",
    "        self.cnn5 = nn.Conv2d(in_channels=128, out_channels=128,kernel_size=4,padding=2)\n",
    "\n",
    "        \n",
    "        self.relu = nn.ReLU()\n",
    "        self.pool = nn.MaxPool2d(3,stride=2)\n",
    "        self.cnn1_bn = nn.BatchNorm2d(32)\n",
    "        self.cnn2_bn = nn.BatchNorm2d(32)\n",
    "        self.cnn3_bn = nn.BatchNorm2d(64)\n",
    "        self.cnn4_bn = nn.BatchNorm2d(128)\n",
    "        self.cnn5_bn = nn.BatchNorm2d(128)\n",
    "       \n",
    "\n",
    "        self.fc1 = nn.Linear(128*4*4, 1024)\n",
    "        self.fc2 = nn.Linear(1024, 7)\n",
    "        self.dropout = nn.Dropout(0.3)\n",
    "        self.log_softmax = nn.LogSoftmax(dim=1)\n",
    "    \n",
    "    def forward(self, x):\n",
    "        x = self.relu(self.pool(self.cnn1_bn(self.cnn1(x))))\n",
    "        #print(x.shape)\n",
    "        x = self.relu(self.pool(self.cnn2_bn(self.cnn2(x))))\n",
    "        #print(x.shape)\n",
    "        x = self.relu(self.pool(self.cnn3_bn(self.cnn3(x))))\n",
    "        #print(x.shape)\n",
    "        x = self.relu(self.pool(self.cnn4_bn(self.cnn4(x))))\n",
    "        #print(x.shape)\n",
    "        x = self.relu((self.cnn5_bn(self.cnn5(x))))\n",
    "        #print(x.shape)\n",
    "\n",
    "        #x = x.view(x.size(0), -1)\n",
    "        x = x.reshape(x.shape[0],128*4*4)\n",
    "        x = self.relu(self.fc1(x))\n",
    "        x = self.relu(self.fc2(self.dropout(x)))\n",
    "        x = self.log_softmax(x)\n",
    "        return x\n",
    "    \n",
    "torch.manual_seed(0)\n",
    "model = Face_Emotion_CNN()"
   ]
  },
  {
   "cell_type": "code",
   "execution_count": 8,
   "id": "6ee375e4",
   "metadata": {
    "id": "6ee375e4"
   },
   "outputs": [],
   "source": [
    "import torch.optim as optim\n",
    "from torch.optim.lr_scheduler import StepLR\n",
    "\n",
    "#class_count = [i for i in Counter(dataset_train.targets).values()]\n",
    "#weight = torch.tensor(class_count) / sum(class_count)\n",
    "criterion = nn.CrossEntropyLoss()\n",
    "optimizer = optim.SGD(model.parameters(), lr=0.01, momentum=0.9)\n",
    "scheduler = StepLR(optimizer, step_size=5, gamma=0.1)"
   ]
  },
  {
   "cell_type": "code",
   "execution_count": 9,
   "id": "20098e5a",
   "metadata": {
    "colab": {
     "base_uri": "https://localhost:8080/"
    },
    "id": "20098e5a",
    "outputId": "07483e68-da28-4a0f-e051-e98f893503c0",
    "scrolled": true
   },
   "outputs": [
    {
     "name": "stderr",
     "output_type": "stream",
     "text": [
      "C:\\Users\\User\\anaconda3\\lib\\site-packages\\torch\\optim\\lr_scheduler.py:131: UserWarning: Detected call of `lr_scheduler.step()` before `optimizer.step()`. In PyTorch 1.1.0 and later, you should call them in the opposite order: `optimizer.step()` before `lr_scheduler.step()`.  Failure to do this will result in PyTorch skipping the first value of the learning rate schedule. See more details at https://pytorch.org/docs/stable/optim.html#how-to-adjust-learning-rate\n",
      "  warnings.warn(\"Detected call of `lr_scheduler.step()` before `optimizer.step()`. \"\n",
      "C:\\Users\\User\\anaconda3\\lib\\site-packages\\torch\\autograd\\__init__.py:130: UserWarning: CUDA initialization: Found no NVIDIA driver on your system. Please check that you have an NVIDIA GPU and installed a driver from http://www.nvidia.com/Download/index.aspx (Triggered internally at  ..\\c10\\cuda\\CUDAFunctions.cpp:100.)\n",
      "  Variable._execution_engine.run_backward(\n"
     ]
    },
    {
     "name": "stdout",
     "output_type": "stream",
     "text": [
      "0.4591808303148509\n",
      "0.5121203677904709\n",
      "0.5553078852047925\n",
      "0.5608804680969629\n",
      "0.5973808860406798\n",
      "0.6040679855112845\n",
      "0.6012816940651993\n",
      "0.5943159654499861\n",
      "0.6010030649205907\n",
      "0.6082474226804123\n",
      "0.6029534689328504\n",
      "0.60490387294511\n",
      "0.6035107272220674\n",
      "0.5954304820284202\n",
      "0.603789356366676\n",
      "0.6060183895235441\n",
      "0.6060183895235441\n",
      "0.60490387294511\n",
      "0.6068542769573697\n",
      "0.60490387294511\n",
      "Finished Training\n"
     ]
    }
   ],
   "source": [
    "no_epochs = 20\n",
    "training_loss = []\n",
    "val_loss = []\n",
    "val_acc = []\n",
    "train_acc = []\n",
    "\n",
    "for epoch in range(no_epochs): \n",
    "    scheduler.step()\n",
    "    running_loss = 0.0\n",
    "    running_loss_val = 0\n",
    "    running_loss_train = 0\n",
    "    correct_val = 0\n",
    "    total_val = 0\n",
    "    total_train = 0 \n",
    "    correct_train = 0\n",
    "    #print(f\"Epoch {epoch+1}\")\n",
    "    for i, data in enumerate(trainloader, 0):\n",
    "        inputs, labels = data\n",
    "\n",
    "        optimizer.zero_grad()\n",
    "\n",
    "        outputs = model(inputs)\n",
    "        \n",
    "        loss = criterion(outputs, labels)\n",
    "        loss.backward()\n",
    "        optimizer.step()\n",
    "        \n",
    "\n",
    "        running_loss += loss.item()\n",
    "        #if i % 2000 == 1999:    # print every 2000 mini-batches\n",
    "            #print(f'[{epoch + 1}, {i + 1:5d}] loss: {running_loss / 2000:.3f}')\n",
    "\n",
    "    with torch.no_grad():\n",
    "        for traindata in trainloader:\n",
    "            trainimages, trainlabels = traindata\n",
    "            trainoutputs = model(trainimages)\n",
    "            loss_train = criterion(trainoutputs, trainlabels)\n",
    "            running_loss_train += loss_train.item()\n",
    "            train_, trainpredicted = torch.max(trainoutputs.data, 1)\n",
    "            total_train += trainlabels.size(0)\n",
    "            correct_train += (trainpredicted == trainlabels).sum().item()\n",
    "            \n",
    "    with torch.no_grad():\n",
    "        for valdata in valloader:\n",
    "            valimages, vallabels = valdata\n",
    "            valoutputs = model(valimages)\n",
    "            loss_val = criterion(valoutputs, vallabels)\n",
    "            running_loss_val += loss_val.item()\n",
    "            val_, valpredicted = torch.max(valoutputs.data, 1)\n",
    "            total_val += vallabels.size(0)\n",
    "            correct_val += (valpredicted == vallabels).sum().item()\n",
    "    \n",
    "    print(correct_val/total_val)\n",
    "    training_loss.append(running_loss)\n",
    "    val_loss.append(running_loss_val)\n",
    "    val_acc.append(correct_val/total_val)\n",
    "    train_acc.append(correct_train/total_train)\n",
    "\n",
    "print('Finished Training')\n",
    "\n"
   ]
  },
  {
   "cell_type": "code",
   "execution_count": 12,
   "id": "1b61dca9",
   "metadata": {},
   "outputs": [
    {
     "data": {
      "text/plain": [
       "[0.46626493434114735,\n",
       " 0.5470409975965725,\n",
       " 0.598000626981086,\n",
       " 0.6166010658678464,\n",
       " 0.6830262287087673,\n",
       " 0.6978996133616636,\n",
       " 0.7245114772371033,\n",
       " 0.7400815075411892,\n",
       " 0.7628618203350865,\n",
       " 0.7779790309658992,\n",
       " 0.7816015883520847,\n",
       " 0.7858511268243408,\n",
       " 0.7880107283430283,\n",
       " 0.7923995959455223,\n",
       " 0.7945940297467693,\n",
       " 0.7944198683339719,\n",
       " 0.7966491344177784,\n",
       " 0.7957086627886726,\n",
       " 0.7969277926782542,\n",
       " 0.7948726880072451]"
      ]
     },
     "execution_count": 12,
     "metadata": {},
     "output_type": "execute_result"
    }
   ],
   "source": [
    "train_acc"
   ]
  },
  {
   "cell_type": "code",
   "execution_count": 64,
   "id": "d494016b",
   "metadata": {
    "id": "d494016b"
   },
   "outputs": [],
   "source": [
    "PATH = './7_layer_val_nowd_norandomness.pth'\n",
    "torch.save(model.state_dict(), PATH)"
   ]
  },
  {
   "cell_type": "code",
   "execution_count": null,
   "id": "85263456",
   "metadata": {
    "colab": {
     "base_uri": "https://localhost:8080/"
    },
    "id": "85263456",
    "outputId": "feffcb05-32af-4f7c-fc75-e6b467c39d0a"
   },
   "outputs": [],
   "source": [
    "#model = Face_Emotion_CNN()\n",
    "model.load_state_dict(torch.load(PATH))"
   ]
  },
  {
   "cell_type": "code",
   "execution_count": 10,
   "id": "ac17c538",
   "metadata": {
    "colab": {
     "base_uri": "https://localhost:8080/"
    },
    "id": "ac17c538",
    "outputId": "447da529-1a13-4e42-c761-a8b02def7b80"
   },
   "outputs": [
    {
     "name": "stdout",
     "output_type": "stream",
     "text": [
      "Accuracy of the network on the test images: 61.437726386179996 %\n"
     ]
    }
   ],
   "source": [
    "model.eval()\n",
    "correct = 0\n",
    "total = 0\n",
    "with torch.no_grad():\n",
    "    for data in testloader:\n",
    "        images, labels = data\n",
    "        outputs = model(images)\n",
    "        _, predicted = torch.max(outputs.data, 1)\n",
    "        total += labels.size(0)\n",
    "        correct += (predicted == labels).sum().item()\n",
    "\n",
    "print(f'Accuracy of the network on the test images: {100 * correct / total} %')"
   ]
  },
  {
   "cell_type": "code",
   "execution_count": 11,
   "id": "28d3a48a",
   "metadata": {
    "colab": {
     "base_uri": "https://localhost:8080/"
    },
    "id": "28d3a48a",
    "outputId": "f15cae93-fd35-4429-a802-cded961aebfa"
   },
   "outputs": [
    {
     "name": "stdout",
     "output_type": "stream",
     "text": [
      "Accuracy for class: Angry is 55.6 %\n",
      "Accuracy for class: Disgust is 30.9 %\n",
      "Accuracy for class: Fear  is 43.9 %\n",
      "Accuracy for class: Happy is 84.3 %\n",
      "Accuracy for class: Sad   is 48.5 %\n",
      "Accuracy for class: Surprise is 70.9 %\n",
      "Accuracy for class: Neutral is 57.3 %\n"
     ]
    }
   ],
   "source": [
    "classes = ('Angry', 'Disgust', 'Fear', 'Happy', 'Sad', 'Surprise', 'Neutral')\n",
    "\n",
    "correct_pred = {classname: 0 for classname in classes}\n",
    "total_pred = {classname: 0 for classname in classes}\n",
    "\n",
    "\n",
    "with torch.no_grad():\n",
    "    for data in testloader:\n",
    "        images, labels = data\n",
    "        outputs = model(images)\n",
    "        _, predictions = torch.max(outputs, 1)\n",
    "        for label, prediction in zip(labels, predictions):\n",
    "            if label == prediction:\n",
    "                correct_pred[classes[label]] += 1\n",
    "            total_pred[classes[label]] += 1\n",
    "\n",
    "\n",
    "# accuracy for each class\n",
    "for classname, correct_count in correct_pred.items():\n",
    "    accuracy = 100 * float(correct_count) / total_pred[classname]\n",
    "    print(f'Accuracy for class: {classname:5s} is {accuracy:.1f} %')"
   ]
  },
  {
   "cell_type": "code",
   "execution_count": null,
   "id": "jtodQDxsdF-Y",
   "metadata": {
    "id": "jtodQDxsdF-Y"
   },
   "outputs": [],
   "source": []
  }
 ],
 "metadata": {
  "accelerator": "GPU",
  "colab": {
   "collapsed_sections": [],
   "name": "6Layermodel-20epoch-128batch.ipynb",
   "provenance": []
  },
  "kernelspec": {
   "display_name": "Python 3 (ipykernel)",
   "language": "python",
   "name": "python3"
  },
  "language_info": {
   "codemirror_mode": {
    "name": "ipython",
    "version": 3
   },
   "file_extension": ".py",
   "mimetype": "text/x-python",
   "name": "python",
   "nbconvert_exporter": "python",
   "pygments_lexer": "ipython3",
   "version": "3.7.3"
  }
 },
 "nbformat": 4,
 "nbformat_minor": 5
}
