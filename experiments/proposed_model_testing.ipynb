{
 "cells": [
  {
   "cell_type": "code",
   "execution_count": 1,
   "id": "2de506b4",
   "metadata": {},
   "outputs": [],
   "source": [
    "import matplotlib\n",
    "import pandas as pd\n",
    "import numpy as np\n",
    "import matplotlib.pyplot as plt\n",
    "from tqdm import tqdm\n",
    "\n",
    "import torch\n",
    "import torchvision\n",
    "import torch.nn as nn\n",
    "import torch.nn.functional as F\n",
    "import torch.optim as optim\n",
    "import torchvision.transforms as transforms\n",
    "\n",
    "import torch.utils.data\n",
    "from torch.utils.data import DataLoader\n",
    "from collections import Counter\n",
    "\n",
    "from utils import EmotionsDataset, SimpleNet, AttentionalNet"
   ]
  },
  {
   "cell_type": "code",
   "execution_count": 2,
   "id": "eead02ed",
   "metadata": {},
   "outputs": [],
   "source": [
    "# define dictionary for emotions\n",
    "emotion_dict = {0: 'Angry', \n",
    "                1: 'Disgust', \n",
    "                2: 'Fear',\n",
    "                3: 'Happy', \n",
    "                4: 'Sad',\n",
    "                5: 'Surprise',\n",
    "                6: 'Neutral'}"
   ]
  },
  {
   "cell_type": "code",
   "execution_count": 3,
   "id": "dbd41875",
   "metadata": {},
   "outputs": [
    {
     "name": "stdout",
     "output_type": "stream",
     "text": [
      "Loading dataset...\tDone\n",
      "Loading dataset...\tDone\n",
      "Loading dataset...\tDone\n"
     ]
    }
   ],
   "source": [
    "batch_size = 128\n",
    "transform = transforms.Compose([transforms.ToTensor(), transforms.Normalize((0.5), (0.5))])\n",
    "dataset_train = EmotionsDataset(root='../dataset', fname='icml_face_data_train.csv', transform=transform)\n",
    "dataset_validation = EmotionsDataset(root='../dataset', fname='icml_face_data_validation.csv', transform=transform)\n",
    "dataset_test = EmotionsDataset(root='../dataset', fname='icml_face_data_test.csv', transform=transform)"
   ]
  },
  {
   "cell_type": "code",
   "execution_count": 6,
   "id": "276608fd",
   "metadata": {},
   "outputs": [],
   "source": [
    "torch.manual_seed(0)\n",
    "trainloader = DataLoader(dataset_train, batch_size = batch_size,shuffle=True)\n",
    "valloader = DataLoader(dataset_validation, batch_size = batch_size,shuffle=True)\n",
    "testloader = DataLoader(dataset_test, batch_size = batch_size)"
   ]
  },
  {
   "cell_type": "code",
   "execution_count": 7,
   "id": "838aa549",
   "metadata": {},
   "outputs": [],
   "source": [
    "class Face_Emotion_CNN(nn.Module):\n",
    "    def __init__(self):\n",
    "        super(Face_Emotion_CNN, self).__init__()\n",
    "        self.cnn1 = nn.Conv2d(in_channels=1, out_channels=32, kernel_size=5,padding=3)\n",
    "        self.cnn2 = nn.Conv2d(in_channels=32, out_channels=32, kernel_size=4,padding=2)\n",
    "        self.cnn3 = nn.Conv2d(in_channels=32, out_channels=64, kernel_size=5,padding=3)\n",
    "        self.cnn4 = nn.Conv2d(in_channels=64, out_channels=128,kernel_size=5,padding=3)\n",
    "        self.cnn5 = nn.Conv2d(in_channels=128, out_channels=128,kernel_size=4,padding=2)\n",
    "\n",
    "        \n",
    "        self.relu = nn.ReLU()\n",
    "        self.pool = nn.MaxPool2d(3,stride=2)\n",
    "        self.cnn1_bn = nn.BatchNorm2d(32)\n",
    "        self.cnn2_bn = nn.BatchNorm2d(32)\n",
    "        self.cnn3_bn = nn.BatchNorm2d(64)\n",
    "        self.cnn4_bn = nn.BatchNorm2d(128)\n",
    "        self.cnn5_bn = nn.BatchNorm2d(128)\n",
    "       \n",
    "\n",
    "        self.fc1 = nn.Linear(128*4*4, 1024)\n",
    "        self.fc2 = nn.Linear(1024, 7)\n",
    "        self.dropout = nn.Dropout(0.3)\n",
    "        self.log_softmax = nn.LogSoftmax(dim=1)\n",
    "    \n",
    "    def forward(self, x):\n",
    "        x = self.relu(self.pool(self.cnn1_bn(self.cnn1(x))))\n",
    "        #print(x.shape)\n",
    "        x = self.relu(self.pool(self.cnn2_bn(self.cnn2(x))))\n",
    "        #print(x.shape)\n",
    "        x = self.relu(self.pool(self.cnn3_bn(self.cnn3(x))))\n",
    "        #print(x.shape)\n",
    "        x = self.relu(self.pool(self.cnn4_bn(self.cnn4(x))))\n",
    "        #print(x.shape)\n",
    "        x = self.relu((self.cnn5_bn(self.cnn5(x))))\n",
    "        #print(x.shape)\n",
    "\n",
    "        #x = x.view(x.size(0), -1)\n",
    "        x = x.reshape(x.shape[0],128*4*4)\n",
    "        x = self.relu(self.fc1(x))\n",
    "        x = self.relu(self.fc2(self.dropout(x)))\n",
    "        x = self.log_softmax(x)\n",
    "        return x\n",
    "    \n",
    "torch.manual_seed(0)\n",
    "model = Face_Emotion_CNN()"
   ]
  },
  {
   "cell_type": "code",
   "execution_count": 8,
   "id": "10a0590c",
   "metadata": {},
   "outputs": [],
   "source": [
    "#PATH = './Kim_model_new_layer_20epoch.pth'\n",
    "#PATH='./Kim_model_new_layer_20epoch_without_weightdecayandlrdecay.pth'\n",
    "#PATH = './Kim_samemodel_0.01_withoutdecayandlr.pth'\n",
    "PATH = '../experiments/7Layer_val_nowd-nopreprocess_Balanced.pth'\n",
    "#torch.save(model.state_dict(), PATH)"
   ]
  },
  {
   "cell_type": "code",
   "execution_count": 9,
   "id": "46a98a5f",
   "metadata": {},
   "outputs": [
    {
     "data": {
      "text/plain": [
       "Face_Emotion_CNN(\n",
       "  (cnn1): Conv2d(1, 32, kernel_size=(5, 5), stride=(1, 1), padding=(3, 3))\n",
       "  (cnn2): Conv2d(32, 32, kernel_size=(4, 4), stride=(1, 1), padding=(2, 2))\n",
       "  (cnn3): Conv2d(32, 64, kernel_size=(5, 5), stride=(1, 1), padding=(3, 3))\n",
       "  (cnn4): Conv2d(64, 128, kernel_size=(5, 5), stride=(1, 1), padding=(3, 3))\n",
       "  (cnn5): Conv2d(128, 128, kernel_size=(4, 4), stride=(1, 1), padding=(2, 2))\n",
       "  (relu): ReLU()\n",
       "  (pool): MaxPool2d(kernel_size=3, stride=2, padding=0, dilation=1, ceil_mode=False)\n",
       "  (cnn1_bn): BatchNorm2d(32, eps=1e-05, momentum=0.1, affine=True, track_running_stats=True)\n",
       "  (cnn2_bn): BatchNorm2d(32, eps=1e-05, momentum=0.1, affine=True, track_running_stats=True)\n",
       "  (cnn3_bn): BatchNorm2d(64, eps=1e-05, momentum=0.1, affine=True, track_running_stats=True)\n",
       "  (cnn4_bn): BatchNorm2d(128, eps=1e-05, momentum=0.1, affine=True, track_running_stats=True)\n",
       "  (cnn5_bn): BatchNorm2d(128, eps=1e-05, momentum=0.1, affine=True, track_running_stats=True)\n",
       "  (fc1): Linear(in_features=2048, out_features=1024, bias=True)\n",
       "  (fc2): Linear(in_features=1024, out_features=7, bias=True)\n",
       "  (dropout): Dropout(p=0.3, inplace=False)\n",
       "  (log_softmax): LogSoftmax(dim=1)\n",
       ")"
      ]
     },
     "execution_count": 9,
     "metadata": {},
     "output_type": "execute_result"
    }
   ],
   "source": [
    "#model = Face_Emotion_CNN()\n",
    "model.load_state_dict(torch.load(PATH))\n",
    "model.eval()"
   ]
  },
  {
   "cell_type": "code",
   "execution_count": 10,
   "id": "2b4e0681",
   "metadata": {},
   "outputs": [
    {
     "name": "stdout",
     "output_type": "stream",
     "text": [
      "Accuracy of the network on the test images: 61.46558930064085 %\n"
     ]
    }
   ],
   "source": [
    "correct = 0\n",
    "total = 0\n",
    "with torch.no_grad():\n",
    "    for data in testloader:\n",
    "        images, labels = data\n",
    "        \n",
    "        outputs = model(images)\n",
    "        #print(outputs)\n",
    "        _, predicted = torch.max(outputs.data, 1)\n",
    "        \n",
    "        total += labels.size(0)\n",
    "        correct += (predicted == labels).sum().item()\n",
    "        #break\n",
    "\n",
    "print(f'Accuracy of the network on the test images: {100 * correct / total} %')"
   ]
  },
  {
   "cell_type": "code",
   "execution_count": 11,
   "id": "d155c6b3",
   "metadata": {},
   "outputs": [
    {
     "name": "stdout",
     "output_type": "stream",
     "text": [
      "Accuracy for class: Angry is 54.4 %\n",
      "Accuracy for class: Disgust is 38.2 %\n",
      "Accuracy for class: Fear  is 41.5 %\n",
      "Accuracy for class: Happy is 82.7 %\n",
      "Accuracy for class: Sad   is 48.8 %\n",
      "Accuracy for class: Surprise is 72.4 %\n",
      "Accuracy for class: Neutral is 60.9 %\n"
     ]
    }
   ],
   "source": [
    "classes = ('Angry', 'Disgust', 'Fear', 'Happy', 'Sad', 'Surprise', 'Neutral')\n",
    "\n",
    "correct_pred = {classname: 0 for classname in classes}\n",
    "total_pred = {classname: 0 for classname in classes}\n",
    "\n",
    "\n",
    "with torch.no_grad():\n",
    "    for data in testloader:\n",
    "        images, labels = data\n",
    "        outputs = model(images)\n",
    "        _, predictions = torch.max(outputs, 1)\n",
    "        for label, prediction in zip(labels, predictions):\n",
    "            if label == prediction:\n",
    "                correct_pred[classes[label]] += 1\n",
    "            total_pred[classes[label]] += 1\n",
    "\n",
    "\n",
    "# accuracy for each class\n",
    "for classname, correct_count in correct_pred.items():\n",
    "    accuracy = 100 * float(correct_count) / total_pred[classname]\n",
    "    print(f'Accuracy for class: {classname:5s} is {accuracy:.1f} %')"
   ]
  },
  {
   "cell_type": "code",
   "execution_count": 12,
   "id": "f3044375",
   "metadata": {},
   "outputs": [
    {
     "data": {
      "text/plain": [
       "<AxesSubplot:>"
      ]
     },
     "execution_count": 12,
     "metadata": {},
     "output_type": "execute_result"
    },
    {
     "data": {
      "image/png": "[encoded data removed]",
      "text/plain": [
       "<Figure size 864x504 with 2 Axes>"
      ]
     },
     "metadata": {
      "needs_background": "light"
     },
     "output_type": "display_data"
    }
   ],
   "source": [
    "from sklearn.metrics import confusion_matrix\n",
    "import seaborn as sn\n",
    "\n",
    "\n",
    "y_pred = []\n",
    "y_true = []\n",
    "\n",
    "# iterate over test data\n",
    "for inputs, labels in testloader:\n",
    "        output = model(inputs) # Feed Network\n",
    "\n",
    "        output = (torch.max(output, 1)[1]).data.cpu().numpy()\n",
    "        y_pred.extend(output) # Save Prediction\n",
    "        \n",
    "        labels = labels.data.cpu().numpy()\n",
    "        y_true.extend(labels) # Save Truth\n",
    "\n",
    "\n",
    "# Build confusion matrix\n",
    "cf_matrix = confusion_matrix(y_true, y_pred)\n",
    "plt.figure(figsize = (12,7))\n",
    "sn.heatmap(cf_matrix, annot=True)"
   ]
  },
  {
   "cell_type": "code",
   "execution_count": 13,
   "id": "df85caa0",
   "metadata": {},
   "outputs": [
    {
     "data": {
      "text/plain": [
       "array([[267,   4,  53,  25,  78,   8,  56],\n",
       "       [ 19,  21,  11,   1,   2,   0,   1],\n",
       "       [ 71,   3, 219,  28, 109,  47,  51],\n",
       "       [ 28,   0,  25, 727,  31,  17,  51],\n",
       "       [ 62,   1,  77,  37, 290,   8, 119],\n",
       "       [ 13,   2,  46,  26,  12, 301,  16],\n",
       "       [ 54,   0,  36,  44, 101,  10, 381]], dtype=int64)"
      ]
     },
     "execution_count": 13,
     "metadata": {},
     "output_type": "execute_result"
    }
   ],
   "source": [
    "cf_matrix"
   ]
  },
  {
   "cell_type": "code",
   "execution_count": null,
   "id": "d10a58e3",
   "metadata": {},
   "outputs": [],
   "source": []
  }
 ],
 "metadata": {
  "kernelspec": {
   "display_name": "Python 3 (ipykernel)",
   "language": "python",
   "name": "python3"
  },
  "language_info": {
   "codemirror_mode": {
    "name": "ipython",
    "version": 3
   },
   "file_extension": ".py",
   "mimetype": "text/x-python",
   "name": "python",
   "nbconvert_exporter": "python",
   "pygments_lexer": "ipython3",
   "version": "3.7.3"
  }
 },
 "nbformat": 4,
 "nbformat_minor": 5
}
