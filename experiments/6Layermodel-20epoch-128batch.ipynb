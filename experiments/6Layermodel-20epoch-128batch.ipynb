{
 "cells": [
  {
   "cell_type": "code",
   "execution_count": 1,
   "id": "YK0w3ZDYYCTZ",
   "metadata": {
    "executionInfo": {
     "elapsed": 741,
     "status": "ok",
     "timestamp": 1648379617671,
     "user": {
      "displayName": "Hande Mizrak",
      "photoUrl": "https://lh3.googleusercontent.com/a-/AOh14GilEof2zSfdxY66BXkXq7Eq0uEcMoS6XXulmLDa=s64",
      "userId": "12689296497399437569"
     },
     "user_tz": -60
    },
    "id": "YK0w3ZDYYCTZ"
   },
   "outputs": [],
   "source": [
    "%load_ext autoreload\n",
    "%autoreload 2"
   ]
  },
  {
   "cell_type": "code",
   "execution_count": 18,
   "id": "837a1cf3",
   "metadata": {
    "executionInfo": {
     "elapsed": 6698,
     "status": "ok",
     "timestamp": 1648379624367,
     "user": {
      "displayName": "Hande Mizrak",
      "photoUrl": "https://lh3.googleusercontent.com/a-/AOh14GilEof2zSfdxY66BXkXq7Eq0uEcMoS6XXulmLDa=s64",
      "userId": "12689296497399437569"
     },
     "user_tz": -60
    },
    "id": "837a1cf3"
   },
   "outputs": [],
   "source": [
    "import matplotlib\n",
    "import pandas as pd\n",
    "import numpy as np\n",
    "import matplotlib.pyplot as plt\n",
    "from tqdm import tqdm\n",
    "\n",
    "import torch\n",
    "import torchvision\n",
    "import torch.nn as nn\n",
    "import torch.nn.functional as F\n",
    "import torch.optim as optim\n",
    "import torchvision.transforms as transforms\n",
    "\n",
    "import torch.utils.data\n",
    "from torch.utils.data import DataLoader\n",
    "from collections import Counter\n",
    "\n",
    "from utils import EmotionsDataset, AttentionalNet\n",
    "import sklearn.preprocessing as sk_prep\n",
    "from PIL import Image\n"
   ]
  },
  {
   "cell_type": "code",
   "execution_count": 3,
   "id": "efc90e2d",
   "metadata": {
    "executionInfo": {
     "elapsed": 5,
     "status": "ok",
     "timestamp": 1648379624367,
     "user": {
      "displayName": "Hande Mizrak",
      "photoUrl": "https://lh3.googleusercontent.com/a-/AOh14GilEof2zSfdxY66BXkXq7Eq0uEcMoS6XXulmLDa=s64",
      "userId": "12689296497399437569"
     },
     "user_tz": -60
    },
    "id": "efc90e2d"
   },
   "outputs": [],
   "source": [
    "# define dictionary for emotions\n",
    "emotion_dict = {0: 'Angry', \n",
    "                1: 'Disgust', \n",
    "                2: 'Fear',\n",
    "                3: 'Happy', \n",
    "                4: 'Sad',\n",
    "                5: 'Surprise',\n",
    "                6: 'Neutral'}"
   ]
  },
  {
   "cell_type": "code",
   "execution_count": 19,
   "id": "295b2f08",
   "metadata": {},
   "outputs": [],
   "source": [
    "def load_data(file_name):\n",
    "    data = pd.read_csv(file_name)\n",
    "    y = data['emotion'].values\n",
    "    x = data[' pixels'].str.split(' ', expand=True)\n",
    "    x = x.astype(int).values\n",
    "    return x, y\n",
    "\n",
    "\n",
    "def split_data(x, y, ratio):\n",
    "    n = len(x)\n",
    "    \n",
    "    ix_train = int(ratio[0] * n)\n",
    "    ix_valid = ix_train + int(ratio[1] * n)\n",
    "    \n",
    "    x_train = x[: ix_train, :]\n",
    "    y_train = y[: ix_train, ]\n",
    "\n",
    "    x_valid = x[ix_train : ix_valid, :]\n",
    "    y_valid = y[ix_train : ix_valid, ]\n",
    "    \n",
    "    x_test = x[ix_valid:, :]\n",
    "    y_test = y[ix_valid:, ]\n",
    "\n",
    "\n",
    "    return x_train, y_train, x_valid, y_valid, x_test, y_test\n",
    "\n",
    "class CustomImageDataset():\n",
    "    def __init__(self, \n",
    "                 x, \n",
    "                 y, \n",
    "                 transform = None,\n",
    "                 target_transform = None,\n",
    "                 seed: int = 123456789):\n",
    "        \n",
    "        self.transform = transform\n",
    "        self.target_transform = transform\n",
    "        \n",
    "        self.rng = np.random.default_rng(seed=seed)\n",
    "        self.g_cpu = torch.Generator()\n",
    "        self.g_cpu.manual_seed(seed)\n",
    "        self.train_idxs = None\n",
    "\n",
    "        self.targets = y\n",
    "        self.data = x.reshape(-1, 1, 48, 48)  # one channel, 48x48 image\n",
    "        self.data = self.data.transpose((0, 2, 3, 1))  # convert to HWC\n",
    "\n",
    "    def __len__(self):\n",
    "        return len(self.data)\n",
    "\n",
    "    def __getitem__(self, idx):\n",
    "        \n",
    "        img, target = self.data[idx], self.targets[idx]\n",
    "        img = Image.fromarray(img.reshape(48, 48))\n",
    "        \n",
    "        if self.transform is not None:\n",
    "            img = self.transform(img)\n",
    "            #target = self.target_transform(target)\n",
    "\n",
    "        return img, target\n",
    "    \n"
   ]
  },
  {
   "cell_type": "code",
   "execution_count": 14,
   "id": "97dc2fcb",
   "metadata": {},
   "outputs": [],
   "source": [
    "x, y = load_data('../dataset/icml_face_data.csv')\n",
    "\n",
    "x_train, y_train, _, _, x_test, y_test = split_data(x, y, ratio=(0.8, 0, 0.2))\n",
    "\n",
    "\n",
    "robust_scaler = sk_prep.RobustScaler()\n",
    "robust_scaler.fit(x_train)\n",
    "x_train_robust = robust_scaler.transform(x_train)\n",
    "x_test_robust = robust_scaler.transform(x_test)\n",
    "        \n",
    "normalization = sk_prep.Normalizer()\n",
    "normalization.fit(x_train_robust)\n",
    "x_train_robust_norm = normalization.transform(x_train_robust)\n",
    "x_test_robust_norm = normalization.transform(x_test_robust)\n",
    "\n",
    "\n",
    "batch_size = 128\n",
    "\n",
    "transform = transforms.Compose([transforms.ToTensor()])\n",
    "dataset_train = CustomImageDataset(x_train_robust_norm, y_train, transform=transform)\n",
    "dataset_test = CustomImageDataset(x_test_robust_norm, y_test, transform=transform)\n",
    "\n",
    "\n",
    "trainloader = DataLoader(dataset_train, batch_size=batch_size, shuffle=True)\n",
    "testloader = DataLoader(dataset_test, batch_size=batch_size)"
   ]
  },
  {
   "cell_type": "markdown",
   "id": "50709fd5",
   "metadata": {
    "colab": {
     "base_uri": "https://localhost:8080/"
    },
    "executionInfo": {
     "elapsed": 59934,
     "status": "ok",
     "timestamp": 1648379684297,
     "user": {
      "displayName": "Hande Mizrak",
      "photoUrl": "https://lh3.googleusercontent.com/a-/AOh14GilEof2zSfdxY66BXkXq7Eq0uEcMoS6XXulmLDa=s64",
      "userId": "12689296497399437569"
     },
     "user_tz": -60
    },
    "id": "a17f1916",
    "outputId": "8566ee3c-b43c-47bc-f20b-15c435e4e2b5"
   },
   "source": [
    "batch_size = 128\n",
    "transform = transforms.Compose([transforms.ToTensor(), transforms.Normalize((0.5), (0.5))])\n",
    "dataset_train = EmotionsDataset(root='./data', fname='icml_face_data_train.csv', transform=transform)\n",
    "dataset_test = EmotionsDataset(root='./data', fname='icml_face_data_test.csv', transform=transform)\n",
    "\n",
    "trainloader = DataLoader(dataset_train, batch_size=batch_size, shuffle=True)\n",
    "testloader = DataLoader(dataset_test, batch_size = batch_size)"
   ]
  },
  {
   "cell_type": "code",
   "execution_count": 15,
   "id": "e724d030",
   "metadata": {
    "executionInfo": {
     "elapsed": 266,
     "status": "ok",
     "timestamp": 1648379861957,
     "user": {
      "displayName": "Hande Mizrak",
      "photoUrl": "https://lh3.googleusercontent.com/a-/AOh14GilEof2zSfdxY66BXkXq7Eq0uEcMoS6XXulmLDa=s64",
      "userId": "12689296497399437569"
     },
     "user_tz": -60
    },
    "id": "e724d030"
   },
   "outputs": [],
   "source": [
    "class Face_Emotion_CNN(nn.Module):\n",
    "    def __init__(self):\n",
    "        super(Face_Emotion_CNN, self).__init__()\n",
    "        self.cnn1 = nn.Conv2d(in_channels=1, out_channels=32, kernel_size=5,padding=3)\n",
    "        self.cnn2 = nn.Conv2d(in_channels=32, out_channels=32, kernel_size=4,padding=2)\n",
    "        self.cnn3 = nn.Conv2d(in_channels=32, out_channels=64, kernel_size=5,padding=3)\n",
    "        self.cnn4 = nn.Conv2d(in_channels=64, out_channels=128,kernel_size=5,padding=3)\n",
    "\n",
    "        \n",
    "        self.relu = nn.ReLU()\n",
    "        self.pool = nn.MaxPool2d(3,stride=2)\n",
    "        self.cnn1_bn = nn.BatchNorm2d(32)\n",
    "        self.cnn2_bn = nn.BatchNorm2d(32)\n",
    "        self.cnn3_bn = nn.BatchNorm2d(64)\n",
    "        self.cnn4_bn = nn.BatchNorm2d(128)\n",
    "\n",
    "        self.fc1 = nn.Linear(128*3*3, 1024)\n",
    "        self.fc2 = nn.Linear(1024, 7)\n",
    "        self.dropout = nn.Dropout(0.3)\n",
    "        self.log_softmax = nn.LogSoftmax(dim=1)\n",
    "    \n",
    "    def forward(self, x):\n",
    "        x = self.relu(self.pool(self.cnn1_bn(self.cnn1(x))))\n",
    "        #print(x.shape)\n",
    "        x = self.relu(self.pool(self.cnn2_bn(self.cnn2(x))))\n",
    "        #print(x.shape)\n",
    "        x = self.relu(self.pool(self.cnn3_bn(self.cnn3(x))))\n",
    "        #print(x.shape)\n",
    "        x = self.relu(self.pool(self.cnn4_bn(self.cnn4(x))))\n",
    "        #print(x.shape)\n",
    "\n",
    "        #x = x.view(x.size(0), -1)\n",
    "        x = x.reshape(x.shape[0],128*3*3)\n",
    "        x = self.relu(self.fc1(x))\n",
    "        x = self.relu(self.fc2(self.dropout(x)))\n",
    "        x = self.log_softmax(x)\n",
    "        return x\n",
    "\n",
    "model = Face_Emotion_CNN()"
   ]
  },
  {
   "cell_type": "code",
   "execution_count": 16,
   "id": "6ee375e4",
   "metadata": {
    "executionInfo": {
     "elapsed": 271,
     "status": "ok",
     "timestamp": 1648380197098,
     "user": {
      "displayName": "Hande Mizrak",
      "photoUrl": "https://lh3.googleusercontent.com/a-/AOh14GilEof2zSfdxY66BXkXq7Eq0uEcMoS6XXulmLDa=s64",
      "userId": "12689296497399437569"
     },
     "user_tz": -60
    },
    "id": "6ee375e4"
   },
   "outputs": [],
   "source": [
    "import torch.optim as optim\n",
    "from torch.optim.lr_scheduler import StepLR\n",
    "\n",
    "#class_count = [i for i in Counter(dataset_train.targets).values()]\n",
    "#weight = torch.tensor(class_count) / sum(class_count)\n",
    "criterion = nn.CrossEntropyLoss()\n",
    "optimizer = optim.SGD(model.parameters(), lr=0.01, momentum=0.9,weight_decay=0.0001)\n",
    "scheduler = StepLR(optimizer, step_size=30, gamma=0.1)"
   ]
  },
  {
   "cell_type": "code",
   "execution_count": 20,
   "id": "20098e5a",
   "metadata": {
    "colab": {
     "base_uri": "https://localhost:8080/"
    },
    "executionInfo": {
     "elapsed": 4874628,
     "status": "ok",
     "timestamp": 1648385082164,
     "user": {
      "displayName": "Hande Mizrak",
      "photoUrl": "https://lh3.googleusercontent.com/a-/AOh14GilEof2zSfdxY66BXkXq7Eq0uEcMoS6XXulmLDa=s64",
      "userId": "12689296497399437569"
     },
     "user_tz": -60
    },
    "id": "20098e5a",
    "outputId": "07483e68-da28-4a0f-e051-e98f893503c0"
   },
   "outputs": [
    {
     "name": "stdout",
     "output_type": "stream",
     "text": [
      "0.46628587350236833\n",
      "0.48578991362496515\n",
      "0.5433268319866258\n",
      "0.530231262190025\n",
      "0.5657564781276121\n",
      "0.5674282529952633\n",
      "0.5628308721092227\n",
      "0.5869322931178601\n",
      "0.5845639453886876\n"
     ]
    },
    {
     "ename": "KeyboardInterrupt",
     "evalue": "",
     "output_type": "error",
     "traceback": [
      "\u001b[1;31m---------------------------------------------------------------------------\u001b[0m",
      "\u001b[1;31mKeyboardInterrupt\u001b[0m                         Traceback (most recent call last)",
      "\u001b[1;32mC:\\Users\\MICHEL~1.MOR\\AppData\\Local\\Temp/ipykernel_10324/3466131182.py\u001b[0m in \u001b[0;36m<module>\u001b[1;34m\u001b[0m\n\u001b[0;32m     22\u001b[0m \u001b[1;33m\u001b[0m\u001b[0m\n\u001b[0;32m     23\u001b[0m         \u001b[0mloss\u001b[0m \u001b[1;33m=\u001b[0m \u001b[0mcriterion\u001b[0m\u001b[1;33m(\u001b[0m\u001b[0moutputs\u001b[0m\u001b[1;33m,\u001b[0m \u001b[0mlabels\u001b[0m\u001b[1;33m)\u001b[0m\u001b[1;33m\u001b[0m\u001b[1;33m\u001b[0m\u001b[0m\n\u001b[1;32m---> 24\u001b[1;33m         \u001b[0mloss\u001b[0m\u001b[1;33m.\u001b[0m\u001b[0mbackward\u001b[0m\u001b[1;33m(\u001b[0m\u001b[1;33m)\u001b[0m\u001b[1;33m\u001b[0m\u001b[1;33m\u001b[0m\u001b[0m\n\u001b[0m\u001b[0;32m     25\u001b[0m         \u001b[0moptimizer\u001b[0m\u001b[1;33m.\u001b[0m\u001b[0mstep\u001b[0m\u001b[1;33m(\u001b[0m\u001b[1;33m)\u001b[0m\u001b[1;33m\u001b[0m\u001b[1;33m\u001b[0m\u001b[0m\n\u001b[0;32m     26\u001b[0m \u001b[1;33m\u001b[0m\u001b[0m\n",
      "\u001b[1;32m~\\anaconda3\\lib\\site-packages\\torch\\_tensor.py\u001b[0m in \u001b[0;36mbackward\u001b[1;34m(self, gradient, retain_graph, create_graph, inputs)\u001b[0m\n\u001b[0;32m    361\u001b[0m                 \u001b[0mcreate_graph\u001b[0m\u001b[1;33m=\u001b[0m\u001b[0mcreate_graph\u001b[0m\u001b[1;33m,\u001b[0m\u001b[1;33m\u001b[0m\u001b[1;33m\u001b[0m\u001b[0m\n\u001b[0;32m    362\u001b[0m                 inputs=inputs)\n\u001b[1;32m--> 363\u001b[1;33m         \u001b[0mtorch\u001b[0m\u001b[1;33m.\u001b[0m\u001b[0mautograd\u001b[0m\u001b[1;33m.\u001b[0m\u001b[0mbackward\u001b[0m\u001b[1;33m(\u001b[0m\u001b[0mself\u001b[0m\u001b[1;33m,\u001b[0m \u001b[0mgradient\u001b[0m\u001b[1;33m,\u001b[0m \u001b[0mretain_graph\u001b[0m\u001b[1;33m,\u001b[0m \u001b[0mcreate_graph\u001b[0m\u001b[1;33m,\u001b[0m \u001b[0minputs\u001b[0m\u001b[1;33m=\u001b[0m\u001b[0minputs\u001b[0m\u001b[1;33m)\u001b[0m\u001b[1;33m\u001b[0m\u001b[1;33m\u001b[0m\u001b[0m\n\u001b[0m\u001b[0;32m    364\u001b[0m \u001b[1;33m\u001b[0m\u001b[0m\n\u001b[0;32m    365\u001b[0m     \u001b[1;32mdef\u001b[0m \u001b[0mregister_hook\u001b[0m\u001b[1;33m(\u001b[0m\u001b[0mself\u001b[0m\u001b[1;33m,\u001b[0m \u001b[0mhook\u001b[0m\u001b[1;33m)\u001b[0m\u001b[1;33m:\u001b[0m\u001b[1;33m\u001b[0m\u001b[1;33m\u001b[0m\u001b[0m\n",
      "\u001b[1;32m~\\anaconda3\\lib\\site-packages\\torch\\autograd\\__init__.py\u001b[0m in \u001b[0;36mbackward\u001b[1;34m(tensors, grad_tensors, retain_graph, create_graph, grad_variables, inputs)\u001b[0m\n\u001b[0;32m    171\u001b[0m     \u001b[1;31m# some Python versions print out the first line of a multi-line function\u001b[0m\u001b[1;33m\u001b[0m\u001b[1;33m\u001b[0m\u001b[0m\n\u001b[0;32m    172\u001b[0m     \u001b[1;31m# calls in the traceback and some print out the last line\u001b[0m\u001b[1;33m\u001b[0m\u001b[1;33m\u001b[0m\u001b[0m\n\u001b[1;32m--> 173\u001b[1;33m     Variable._execution_engine.run_backward(  # Calls into the C++ engine to run the backward pass\n\u001b[0m\u001b[0;32m    174\u001b[0m         \u001b[0mtensors\u001b[0m\u001b[1;33m,\u001b[0m \u001b[0mgrad_tensors_\u001b[0m\u001b[1;33m,\u001b[0m \u001b[0mretain_graph\u001b[0m\u001b[1;33m,\u001b[0m \u001b[0mcreate_graph\u001b[0m\u001b[1;33m,\u001b[0m \u001b[0minputs\u001b[0m\u001b[1;33m,\u001b[0m\u001b[1;33m\u001b[0m\u001b[1;33m\u001b[0m\u001b[0m\n\u001b[0;32m    175\u001b[0m         allow_unreachable=True, accumulate_grad=True)  # Calls into the C++ engine to run the backward pass\n",
      "\u001b[1;31mKeyboardInterrupt\u001b[0m: "
     ]
    }
   ],
   "source": [
    "no_epochs = 20\n",
    "training_loss = []\n",
    "test_loss = []\n",
    "test_acc = []\n",
    "train_acc = []\n",
    "\n",
    "for epoch in range(no_epochs): \n",
    "    running_loss = 0.0\n",
    "    running_loss_test = 0\n",
    "    running_loss_train = 0\n",
    "    correct_test = 0\n",
    "    total_test = 0\n",
    "    total_train = 0 \n",
    "    correct_train = 0\n",
    "    print(f\"Epoch {epoch+1}\")\n",
    "    for i, data in enumerate(trainloader, 0):\n",
    "        inputs, labels = data\n",
    "\n",
    "        optimizer.zero_grad()\n",
    "\n",
    "        outputs = model(inputs)\n",
    "        \n",
    "        loss = criterion(outputs, labels)\n",
    "        loss.backward()\n",
    "        optimizer.step()\n",
    "\n",
    "        running_loss += loss.item()\n",
    "        #if i % 2000 == 1999:    # print every 2000 mini-batches\n",
    "            #print(f'[{epoch + 1}, {i + 1:5d}] loss: {running_loss / 2000:.3f}')\n",
    "\n",
    "    with torch.no_grad():\n",
    "        for traindata in trainloader:\n",
    "            trainimages, trainlabels = traindata\n",
    "            trainoutputs = model(trainimages)\n",
    "            loss_train = criterion(trainoutputs, trainlabels)\n",
    "            running_loss_train += loss_train.item()\n",
    "            train_, trainpredicted = torch.max(trainoutputs.data, 1)\n",
    "            total_train += trainlabels.size(0)\n",
    "            correct_train += (trainpredicted == trainlabels).sum().item()\n",
    "            \n",
    "    with torch.no_grad():\n",
    "        for testdata in testloader:\n",
    "            testimages, testlabels = testdata\n",
    "            testoutputs = model(testimages)\n",
    "            loss_test = criterion(testoutputs, testlabels)\n",
    "            running_loss_test += loss_test.item()\n",
    "            test_, testpredicted = torch.max(testoutputs.data, 1)\n",
    "            total_test += testlabels.size(0)\n",
    "            correct_test += (testpredicted == testlabels).sum().item()\n",
    "    \n",
    "    print(correct_test/total_test)\n",
    "    training_loss.append(running_loss)\n",
    "    test_loss.append(running_loss_test)\n",
    "    test_acc.append(correct_test/total_test)\n",
    "    train_acc.append(correct_train/total_train)\n",
    "\n",
    "print('Finished Training')"
   ]
  },
  {
   "cell_type": "code",
   "execution_count": 9,
   "id": "d494016b",
   "metadata": {
    "executionInfo": {
     "elapsed": 312,
     "status": "ok",
     "timestamp": 1648385117842,
     "user": {
      "displayName": "Hande Mizrak",
      "photoUrl": "https://lh3.googleusercontent.com/a-/AOh14GilEof2zSfdxY66BXkXq7Eq0uEcMoS6XXulmLDa=s64",
      "userId": "12689296497399437569"
     },
     "user_tz": -60
    },
    "id": "d494016b"
   },
   "outputs": [],
   "source": [
    "PATH = '../experiments/Kim_model_new_layer_20epoch_mmr_2.pth'\n",
    "torch.save(model.state_dict(), PATH)"
   ]
  },
  {
   "cell_type": "code",
   "execution_count": 10,
   "id": "85263456",
   "metadata": {
    "colab": {
     "base_uri": "https://localhost:8080/"
    },
    "executionInfo": {
     "elapsed": 288,
     "status": "ok",
     "timestamp": 1648385119802,
     "user": {
      "displayName": "Hande Mizrak",
      "photoUrl": "https://lh3.googleusercontent.com/a-/AOh14GilEof2zSfdxY66BXkXq7Eq0uEcMoS6XXulmLDa=s64",
      "userId": "12689296497399437569"
     },
     "user_tz": -60
    },
    "id": "85263456",
    "outputId": "feffcb05-32af-4f7c-fc75-e6b467c39d0a"
   },
   "outputs": [
    {
     "data": {
      "text/plain": [
       "<All keys matched successfully>"
      ]
     },
     "execution_count": 10,
     "metadata": {},
     "output_type": "execute_result"
    }
   ],
   "source": [
    "model = Face_Emotion_CNN()\n",
    "model.load_state_dict(torch.load(PATH))"
   ]
  },
  {
   "cell_type": "code",
   "execution_count": 11,
   "id": "ac17c538",
   "metadata": {
    "colab": {
     "base_uri": "https://localhost:8080/"
    },
    "executionInfo": {
     "elapsed": 19203,
     "status": "ok",
     "timestamp": 1648385141449,
     "user": {
      "displayName": "Hande Mizrak",
      "photoUrl": "https://lh3.googleusercontent.com/a-/AOh14GilEof2zSfdxY66BXkXq7Eq0uEcMoS6XXulmLDa=s64",
      "userId": "12689296497399437569"
     },
     "user_tz": -60
    },
    "id": "ac17c538",
    "outputId": "447da529-1a13-4e42-c761-a8b02def7b80"
   },
   "outputs": [
    {
     "name": "stdout",
     "output_type": "stream",
     "text": [
      "Accuracy of the network on the test images: 54 %\n"
     ]
    }
   ],
   "source": [
    "correct = 0\n",
    "total = 0\n",
    "with torch.no_grad():\n",
    "    for data in testloader:\n",
    "        images, labels = data\n",
    "        outputs = model(images)\n",
    "        _, predicted = torch.max(outputs.data, 1)\n",
    "        total += labels.size(0)\n",
    "        correct += (predicted == labels).sum().item()\n",
    "\n",
    "print(f'Accuracy of the network on the test images: {100 * correct // total} %')"
   ]
  },
  {
   "cell_type": "code",
   "execution_count": 12,
   "id": "28d3a48a",
   "metadata": {
    "colab": {
     "base_uri": "https://localhost:8080/"
    },
    "executionInfo": {
     "elapsed": 19079,
     "status": "ok",
     "timestamp": 1648385206335,
     "user": {
      "displayName": "Hande Mizrak",
      "photoUrl": "https://lh3.googleusercontent.com/a-/AOh14GilEof2zSfdxY66BXkXq7Eq0uEcMoS6XXulmLDa=s64",
      "userId": "12689296497399437569"
     },
     "user_tz": -60
    },
    "id": "28d3a48a",
    "outputId": "f15cae93-fd35-4429-a802-cded961aebfa"
   },
   "outputs": [
    {
     "name": "stdout",
     "output_type": "stream",
     "text": [
      "Accuracy for class: Angry is 58.4 %\n",
      "Accuracy for class: Disgust is 0.0 %\n",
      "Accuracy for class: Fear  is 10.7 %\n",
      "Accuracy for class: Happy is 76.3 %\n",
      "Accuracy for class: Sad   is 55.8 %\n",
      "Accuracy for class: Surprise is 68.8 %\n",
      "Accuracy for class: Neutral is 48.7 %\n"
     ]
    }
   ],
   "source": [
    "classes = ('Angry', 'Disgust', 'Fear', 'Happy', 'Sad', 'Surprise', 'Neutral')\n",
    "\n",
    "correct_pred = {classname: 0 for classname in classes}\n",
    "total_pred = {classname: 0 for classname in classes}\n",
    "\n",
    "\n",
    "with torch.no_grad():\n",
    "    for data in testloader:\n",
    "        images, labels = data\n",
    "        outputs = model(images)\n",
    "        _, predictions = torch.max(outputs, 1)\n",
    "        for label, prediction in zip(labels, predictions):\n",
    "            if label == prediction:\n",
    "                correct_pred[classes[label]] += 1\n",
    "            total_pred[classes[label]] += 1\n",
    "\n",
    "\n",
    "# accuracy for each class\n",
    "for classname, correct_count in correct_pred.items():\n",
    "    accuracy = 100 * float(correct_count) / total_pred[classname]\n",
    "    print(f'Accuracy for class: {classname:5s} is {accuracy:.1f} %')"
   ]
  },
  {
   "cell_type": "code",
   "execution_count": 13,
   "id": "Yj6kGMsC_uap",
   "metadata": {
    "colab": {
     "base_uri": "https://localhost:8080/",
     "height": 301
    },
    "executionInfo": {
     "elapsed": 687,
     "status": "ok",
     "timestamp": 1648385609305,
     "user": {
      "displayName": "Hande Mizrak",
      "photoUrl": "https://lh3.googleusercontent.com/a-/AOh14GilEof2zSfdxY66BXkXq7Eq0uEcMoS6XXulmLDa=s64",
      "userId": "12689296497399437569"
     },
     "user_tz": -60
    },
    "id": "Yj6kGMsC_uap",
    "outputId": "a43f9a0a-b512-4e78-c1ae-898c973f11dc"
   },
   "outputs": [
    {
     "data": {
      "text/plain": [
       "<matplotlib.legend.Legend at 0x143af1416d0>"
      ]
     },
     "execution_count": 13,
     "metadata": {},
     "output_type": "execute_result"
    },
    {
     "data": {
      "image/png": "[encoded data removed]",
      "text/plain": [
       "<Figure size 432x288 with 1 Axes>"
      ]
     },
     "metadata": {
      "needs_background": "light"
     },
     "output_type": "display_data"
    }
   ],
   "source": [
    "#plt.plot(training_loss)\n",
    "plt.ylabel(\"accuracy\")\n",
    "plt.xlabel(\"no of epochs\")\n",
    "plt.plot(train_acc,label=\"train\")\n",
    "plt.plot(test_acc,label=\"test\")\n",
    "plt.legend([\"train\",\"test\"])\n"
   ]
  },
  {
   "cell_type": "code",
   "execution_count": 14,
   "id": "f5b87f39",
   "metadata": {
    "colab": {
     "base_uri": "https://localhost:8080/",
     "height": 445
    },
    "executionInfo": {
     "elapsed": 24280,
     "status": "ok",
     "timestamp": 1648385893332,
     "user": {
      "displayName": "Hande Mizrak",
      "photoUrl": "https://lh3.googleusercontent.com/a-/AOh14GilEof2zSfdxY66BXkXq7Eq0uEcMoS6XXulmLDa=s64",
      "userId": "12689296497399437569"
     },
     "user_tz": -60
    },
    "id": "f5b87f39",
    "outputId": "f00d4c16-3055-4be9-f703-29dd44e4ee7e"
   },
   "outputs": [
    {
     "data": {
      "text/plain": [
       "<AxesSubplot:>"
      ]
     },
     "execution_count": 14,
     "metadata": {},
     "output_type": "execute_result"
    },
    {
     "data": {
      "image/png": "[encoded data removed]",
      "text/plain": [
       "<Figure size 864x504 with 2 Axes>"
      ]
     },
     "metadata": {
      "needs_background": "light"
     },
     "output_type": "display_data"
    }
   ],
   "source": [
    "from sklearn.metrics import confusion_matrix\n",
    "import seaborn as sn\n",
    "\n",
    "\n",
    "y_pred = []\n",
    "y_true = []\n",
    "\n",
    "# iterate over test data\n",
    "for inputs, labels in testloader:\n",
    "        output = model(inputs) # Feed Network\n",
    "\n",
    "        output = (torch.max(torch.exp(output), 1)[1]).data.cpu().numpy()\n",
    "        y_pred.extend(output) # Save Prediction\n",
    "        \n",
    "        labels = labels.data.cpu().numpy()\n",
    "        y_true.extend(labels) # Save Truth\n",
    "\n",
    "\n",
    "# Build confusion matrix\n",
    "cf_matrix = confusion_matrix(y_true, y_pred)\n",
    "df_cm = pd.DataFrame(cf_matrix/np.sum(cf_matrix) *10, index = [i for i in classes],\n",
    "                     columns = [i for i in classes])\n",
    "plt.figure(figsize = (12,7))\n",
    "sn.heatmap(df_cm, annot=True)"
   ]
  },
  {
   "cell_type": "code",
   "execution_count": 15,
   "id": "BX_VDiN9dEyb",
   "metadata": {
    "colab": {
     "base_uri": "https://localhost:8080/"
    },
    "executionInfo": {
     "elapsed": 8,
     "status": "ok",
     "timestamp": 1648385893332,
     "user": {
      "displayName": "Hande Mizrak",
      "photoUrl": "https://lh3.googleusercontent.com/a-/AOh14GilEof2zSfdxY66BXkXq7Eq0uEcMoS6XXulmLDa=s64",
      "userId": "12689296497399437569"
     },
     "user_tz": -60
    },
    "id": "BX_VDiN9dEyb",
    "outputId": "685517ea-5a0e-405e-f460-8c6e03e71fa5"
   },
   "outputs": [
    {
     "data": {
      "text/plain": [
       "array([[ 562,    0,   22,   57,  189,   19,  109],\n",
       "       [  69,    0,    3,    8,   21,    2,    8],\n",
       "       [ 224,    0,  129,   56,  357,  139,  119],\n",
       "       [ 127,    0,   22, 1348,  168,   31,   78],\n",
       "       [ 238,    0,   33,   66,  687,   26,  197],\n",
       "       [  55,    0,   47,   50,   62,  569,   48],\n",
       "       [ 181,    0,   25,   83,  325,   25,  594]], dtype=int64)"
      ]
     },
     "execution_count": 15,
     "metadata": {},
     "output_type": "execute_result"
    }
   ],
   "source": [
    "cf_matrix"
   ]
  },
  {
   "cell_type": "code",
   "execution_count": null,
   "id": "jtodQDxsdF-Y",
   "metadata": {
    "id": "jtodQDxsdF-Y"
   },
   "outputs": [],
   "source": []
  }
 ],
 "metadata": {
  "accelerator": "GPU",
  "colab": {
   "collapsed_sections": [],
   "name": "6Layermodel-20epoch-128batch.ipynb",
   "provenance": []
  },
  "kernelspec": {
   "display_name": "Python 3 (ipykernel)",
   "language": "python",
   "name": "python3"
  },
  "language_info": {
   "codemirror_mode": {
    "name": "ipython",
    "version": 3
   },
   "file_extension": ".py",
   "mimetype": "text/x-python",
   "name": "python",
   "nbconvert_exporter": "python",
   "pygments_lexer": "ipython3",
   "version": "3.7.3"
  }
 },
 "nbformat": 4,
 "nbformat_minor": 5
}
