{
 "cells": [
  {
   "cell_type": "markdown",
   "id": "23df5a5c-3a5f-4055-aa55-4bc88ec61d3f",
   "metadata": {},
   "source": [
    "# Project: Facial emotion recognition\n",
    "# MTH767P - Group 4"
   ]
  },
  {
   "cell_type": "code",
   "execution_count": 72,
   "id": "8084313b-4ea4-4c58-af1d-2ddebfa3effd",
   "metadata": {},
   "outputs": [],
   "source": [
    "import matplotlib\n",
    "import torch\n",
    "import torch.nn as nn\n",
    "import torch.nn.functional as F\n",
    "import torch.optim as optim\n",
    "import torchvision.transforms as transforms"
   ]
  },
  {
   "cell_type": "markdown",
   "id": "83dd624c-571b-40fe-a5e2-c6c02018dc46",
   "metadata": {},
   "source": [
    "## Data loading and pre-processing "
   ]
  },
  {
   "cell_type": "code",
   "execution_count": 4,
   "id": "d029d87b-22f3-4d4c-a1a1-5768a06ca73a",
   "metadata": {},
   "outputs": [],
   "source": [
    "# TODO: \n",
    "# - code loading of the dataset (train and test) \n",
    "# - code viewing samples of dataset (and maybe some other visualisation of the data characteristics)\n",
    "# - code pre-processing/transformations"
   ]
  },
  {
   "cell_type": "markdown",
   "id": "63719c2e-abb6-4685-b4c2-8e9acaab05dc",
   "metadata": {},
   "source": [
    "---\n",
    "## Convolutional neural network setup \n",
    "### Network architecture"
   ]
  },
  {
   "cell_type": "code",
   "execution_count": 69,
   "id": "e71bad48-66ce-45da-9f9e-34f194b02d75",
   "metadata": {},
   "outputs": [],
   "source": [
    "class Net(nn.Module):\n",
    "\n",
    "    def __init__(self, layers, activation, pooling=None):\n",
    "        super().__init__()\n",
    "        layer_list = []\n",
    "        for layer in layers:\n",
    "            layer_list.append(layer.pop('ltype')(**layer))\n",
    "        self.layers = nn.ModuleList(layer_list)\n",
    "        self.activation = activation\n",
    "        self.pool = pooling\n",
    "\n",
    "    def forward(self, x):\n",
    "        for i, layer in enumerate(self.layers):\n",
    "            print(f'layer {i+1}: {layer}')\n",
    "            if isinstance(self.layers[i-1], nn.Conv2d) and isinstance(layer, nn.Linear):\n",
    "                print(\"flattening\")\n",
    "                x = torch.flatten(x, 1)\n",
    "            x = layer(x)\n",
    "            if i != len(self.layers)-1:\n",
    "                print(\"activation\")\n",
    "                x = self.activation(x)\n",
    "                if isinstance(layer, nn.Conv2d) and self.pool is not None:\n",
    "                    print(\"pooling\")\n",
    "                    x = self.pool(x)\n",
    "            print(x)\n",
    "        return x"
   ]
  },
  {
   "cell_type": "code",
   "execution_count": 70,
   "id": "6d2104ab-ccee-4c94-9128-486c577ad2b1",
   "metadata": {},
   "outputs": [],
   "source": [
    "# Architecture\n",
    "l1 = dict(ltype=nn.Conv2d, in_channels=1, out_channels=6, kernel_size=5, stride=1, padding=0, groups=1, bias=True, padding_mode='zeros')\n",
    "l2 = dict(ltype=nn.Conv2d, in_channels=6, out_channels=16, kernel_size=5, stride=1, padding=0, groups=1, bias=True, padding_mode='zeros')\n",
    "l3 = dict(ltype=nn.Linear, in_features=400, out_features=120, bias=True)\n",
    "l4 = dict(ltype=nn.Linear, in_features=120, out_features=84, bias=True)\n",
    "l5 = dict(ltype=nn.Linear, in_features=84, out_features=10, bias=True)\n",
    "pooling = nn.MaxPool2d(2)\n",
    "activation = F.relu\n",
    "arch = {\"layers\": [l1,l2,l3,l4,l5], \"pooling\": pooling, \"activation\": activation}\n",
    "net = Net(**arch)"
   ]
  },
  {
   "cell_type": "markdown",
   "id": "01977915-fbb9-4f6f-b4fb-f54dbe1eff75",
   "metadata": {},
   "source": [
    "### Loss function and optimizer"
   ]
  },
  {
   "cell_type": "code",
   "execution_count": 73,
   "id": "410e359d-b179-4b22-9ff4-a6a121cb7b7a",
   "metadata": {},
   "outputs": [],
   "source": [
    "criterion = nn.CrossEntropyLoss()\n",
    "optimizer = optim.SGD(net.parameters(), lr=0.001, momentum=0.9)"
   ]
  },
  {
   "cell_type": "markdown",
   "id": "4673d54e-9e0f-468f-8441-18610c9e4bfa",
   "metadata": {},
   "source": [
    "---\n",
    "## Training the neural network\n",
    "### Training"
   ]
  },
  {
   "cell_type": "code",
   "execution_count": null,
   "id": "346eec51-aa23-415f-aea4-09c10fa3c710",
   "metadata": {},
   "outputs": [],
   "source": [
    "num_epochs = 2\n",
    "\n",
    "for epoch in range(num_epochs): \n",
    "\n",
    "    running_loss = 0.0\n",
    "    # FIXME: below line needs to be changed to actual data loader\n",
    "    for i, data in enumerate(trainloader, 0): \n",
    "        # FIXME: make sure the data item does contain both inputs and labels\n",
    "        inputs, labels = data\n",
    "        optimizer.zero_grad()\n",
    "        outputs = net(inputs)\n",
    "        loss = criterion(outputs, labels)\n",
    "        loss.backward()\n",
    "        optimizer.step()\n",
    "        running_loss += loss.item()\n",
    "        if i % 2000 == 1999:  \n",
    "            print(f'[{epoch + 1}, {i + 1:5d}] loss: {running_loss / 2000:.3f}')\n",
    "            running_loss = 0.0\n",
    "\n",
    "print('Finished Training')"
   ]
  },
  {
   "cell_type": "markdown",
   "id": "1f6daf17-a1ae-4c96-83f6-32b0a27acc60",
   "metadata": {},
   "source": [
    "### Cross-validation"
   ]
  },
  {
   "cell_type": "code",
   "execution_count": 74,
   "id": "eb8fecbb-f7eb-414b-829b-385f5534a5fc",
   "metadata": {},
   "outputs": [],
   "source": [
    "# TODO:\n",
    "# - write cross-validation routine to fine tune hyperparameters"
   ]
  },
  {
   "cell_type": "code",
   "execution_count": null,
   "id": "dadf2f51-7d45-440c-948a-4778ab0edc0e",
   "metadata": {},
   "outputs": [],
   "source": [
    "# Save trained model\n",
    "PATH = '.'\n",
    "torch.save(net.state_dict(), PATH)"
   ]
  },
  {
   "cell_type": "markdown",
   "id": "bec9033f-fc94-4b23-9c31-8bc92c2e3426",
   "metadata": {},
   "source": [
    "---\n",
    "## Testing"
   ]
  },
  {
   "cell_type": "code",
   "execution_count": null,
   "id": "913e151a-a30b-440c-9515-5d7cef48af4e",
   "metadata": {},
   "outputs": [],
   "source": [
    "# Load previously trained model\n",
    "net = Net(**arch)\n",
    "net.load_state_dict(torch.load(PATH))"
   ]
  },
  {
   "cell_type": "code",
   "execution_count": 75,
   "id": "93a814ba-87f6-4737-931d-4e3949b90934",
   "metadata": {},
   "outputs": [],
   "source": [
    "# TODO:\n",
    "# - code prediction function\n",
    "# - code routine to calculate performance metrics\n",
    "# - code visualisation of results"
   ]
  },
  {
   "cell_type": "code",
   "execution_count": null,
   "id": "6fc59563-c7cd-4f0f-85c4-d0ec2b7e4b09",
   "metadata": {},
   "outputs": [],
   "source": []
  }
 ],
 "metadata": {
  "kernelspec": {
   "display_name": "Python 3 (ipykernel)",
   "language": "python",
   "name": "python3"
  },
  "language_info": {
   "codemirror_mode": {
    "name": "ipython",
    "version": 3
   },
   "file_extension": ".py",
   "mimetype": "text/x-python",
   "name": "python",
   "nbconvert_exporter": "python",
   "pygments_lexer": "ipython3",
   "version": "3.7.3"
  }
 },
 "nbformat": 4,
 "nbformat_minor": 5
}
