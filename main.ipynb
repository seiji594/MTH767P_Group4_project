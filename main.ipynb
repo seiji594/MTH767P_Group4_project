{
 "cells": [
  {
   "cell_type": "markdown",
   "id": "23df5a5c-3a5f-4055-aa55-4bc88ec61d3f",
   "metadata": {},
   "source": [
    "# Project: Facial emotion recognition\n",
    "## MTH767P - Group 4"
   ]
  },
  {
   "cell_type": "code",
   "execution_count": 1,
   "id": "5b325e04-50c6-4e8a-9b86-100ae7feeaf1",
   "metadata": {},
   "outputs": [],
   "source": [
    "%load_ext autoreload\n",
    "%autoreload 2"
   ]
  },
  {
   "cell_type": "code",
   "execution_count": 2,
   "id": "8084313b-4ea4-4c58-af1d-2ddebfa3effd",
   "metadata": {},
   "outputs": [],
   "source": [
    "import matplotlib\n",
    "import pandas as pd\n",
    "import numpy as np\n",
    "import matplotlib.pyplot as plt\n",
    "from functools import partial\n",
    "from pathlib import Path\n",
    "from tqdm import tqdm\n",
    "\n",
    "import torch\n",
    "import torchvision\n",
    "import torch.nn as nn\n",
    "import torch.optim as optim\n",
    "import torchvision.transforms as transforms\n",
    "\n",
    "from utils import *"
   ]
  },
  {
   "cell_type": "markdown",
   "id": "83dd624c-571b-40fe-a5e2-c6c02018dc46",
   "metadata": {},
   "source": [
    "## Data loading and pre-processing "
   ]
  },
  {
   "cell_type": "markdown",
   "id": "724fa922",
   "metadata": {},
   "source": [
    "#### Read data"
   ]
  },
  {
   "cell_type": "code",
   "execution_count": 3,
   "id": "6fe4c31a",
   "metadata": {},
   "outputs": [],
   "source": [
    "# define dictionary for emotions\n",
    "emotion_dict = {0: 'Angry', \n",
    "                1: 'Disgust', \n",
    "                2: 'Fear',\n",
    "                3: 'Happy', \n",
    "                4: 'Sad',\n",
    "                5: 'Surprise',\n",
    "                6: 'Neutral'}"
   ]
  },
  {
   "cell_type": "code",
   "execution_count": 5,
   "id": "c064b7e4",
   "metadata": {},
   "outputs": [
    {
     "name": "stdout",
     "output_type": "stream",
     "text": [
      "Loading dataset...\tDone\n",
      "Loading dataset...\tDone\n",
      "Loading dataset...\tDone\n"
     ]
    }
   ],
   "source": [
    "batch_size = 128\n",
    "transform = transforms.Compose([transforms.ToTensor(), transforms.Normalize((0.5), (0.5))])\n",
    "dataset_train = EmotionsDataset(root='./dataset', fname='icml_face_data_train.csv', transform=transform)\n",
    "dataset_validation = EmotionsDataset(root='./dataset', fname='icml_face_data_validation.csv', transform=transform)\n",
    "dataset_test = EmotionsDataset(root='./dataset', fname='icml_face_data_test.csv', transform=transform)"
   ]
  },
  {
   "cell_type": "markdown",
   "id": "89d1712e",
   "metadata": {},
   "source": [
    "#### Visualize data\n"
   ]
  },
  {
   "cell_type": "code",
   "execution_count": 6,
   "id": "4b799acc",
   "metadata": {},
   "outputs": [],
   "source": [
    "# generate sample of images\n",
    "#fig, ax = plt.subplots(5, len(emotion_dict), figsize=(8, 4.5))\n",
    "\n",
    "#for i, em in emotion_dict.items():\n",
    "    #emotion = dataset.data[dataset.targets==i][:5]\n",
    "    # set title\n",
    "    #ax[0, i].set_title(em)\n",
    "    #for j in range(emotion.shape[0]):      \n",
    "        #im = emotion[j]\n",
    "        #ax[j, i].imshow(im, cmap='gray')\n",
    "        #ax[j, i].axis('off')\n",
    "#plt.tight_layout();\n",
    "#plt.savefig(output_path/'dataset_sample.png')"
   ]
  },
  {
   "cell_type": "markdown",
   "id": "630e4a53",
   "metadata": {},
   "source": [
    "#### Split dataset"
   ]
  },
  {
   "cell_type": "code",
   "execution_count": 8,
   "id": "59e108e7",
   "metadata": {},
   "outputs": [],
   "source": [
    "torch.manual_seed(0)\n",
    "trainloader = DataLoader(dataset_train, batch_size = batch_size,shuffle=True)\n",
    "valloader = DataLoader(dataset_validation, batch_size = batch_size,shuffle=True)\n",
    "testloader = DataLoader(dataset_test, batch_size = batch_size)"
   ]
  },
  {
   "cell_type": "markdown",
   "id": "63719c2e-abb6-4685-b4c2-8e9acaab05dc",
   "metadata": {},
   "source": [
    "---\n",
    "## Convolutional neural network setup \n",
    "### Network architecture"
   ]
  },
  {
   "cell_type": "code",
   "execution_count": 15,
   "id": "c94aa27b",
   "metadata": {},
   "outputs": [],
   "source": [
    "class Face_Emotion_CNN(nn.Module):\n",
    "    def __init__(self):\n",
    "        super(Face_Emotion_CNN, self).__init__()\n",
    "        self.cnn1 = nn.Conv2d(in_channels=1, out_channels=32, kernel_size=5,padding=3)\n",
    "        self.cnn2 = nn.Conv2d(in_channels=32, out_channels=32, kernel_size=4,padding=2)\n",
    "        self.cnn3 = nn.Conv2d(in_channels=32, out_channels=64, kernel_size=5,padding=3)\n",
    "        self.cnn4 = nn.Conv2d(in_channels=64, out_channels=128,kernel_size=5,padding=3)\n",
    "        self.cnn5 = nn.Conv2d(in_channels=128, out_channels=128,kernel_size=4,padding=2)\n",
    "\n",
    "        \n",
    "        self.relu = nn.ReLU()\n",
    "        self.pool = nn.MaxPool2d(3,stride=2)\n",
    "        self.cnn1_bn = nn.BatchNorm2d(32)\n",
    "        self.cnn2_bn = nn.BatchNorm2d(32)\n",
    "        self.cnn3_bn = nn.BatchNorm2d(64)\n",
    "        self.cnn4_bn = nn.BatchNorm2d(128)\n",
    "        self.cnn5_bn = nn.BatchNorm2d(128)\n",
    "       \n",
    "\n",
    "        self.fc1 = nn.Linear(128*4*4, 1024)\n",
    "        self.fc2 = nn.Linear(1024, 7)\n",
    "        self.dropout = nn.Dropout(0.3)\n",
    "        self.log_softmax = nn.LogSoftmax(dim=1)\n",
    "    \n",
    "    def forward(self, x):\n",
    "        x = self.relu(self.pool(self.cnn1_bn(self.cnn1(x))))\n",
    "        #print(x.shape)\n",
    "        x = self.relu(self.pool(self.cnn2_bn(self.cnn2(x))))\n",
    "        #print(x.shape)\n",
    "        x = self.relu(self.pool(self.cnn3_bn(self.cnn3(x))))\n",
    "        #print(x.shape)\n",
    "        x = self.relu(self.pool(self.cnn4_bn(self.cnn4(x))))\n",
    "        #print(x.shape)\n",
    "        x = self.relu((self.cnn5_bn(self.cnn5(x))))\n",
    "        #print(x.shape)\n",
    "\n",
    "        #x = x.view(x.size(0), -1)\n",
    "        x = x.reshape(x.shape[0],128*4*4)\n",
    "        x = self.relu(self.fc1(x))\n",
    "        x = self.relu(self.fc2(self.dropout(x)))\n",
    "        x = self.log_softmax(x)\n",
    "        return x\n",
    "    \n",
    "torch.manual_seed(0)\n",
    "model = Face_Emotion_CNN()"
   ]
  },
  {
   "cell_type": "code",
   "execution_count": 16,
   "id": "bc082b5a",
   "metadata": {},
   "outputs": [],
   "source": [
    "import torch.optim as optim\n",
    "from torch.optim.lr_scheduler import StepLR\n",
    "from collections import Counter\n",
    "\n",
    "class_count = {key:Counter(dataset_train.targets)[key] for key in sorted(Counter(dataset_train.targets))}.values()\n",
    "weight = torch.tensor(list(class_count)) / sum(class_count)\n",
    "weight = 1-weight\n",
    "criterion = nn.CrossEntropyLoss(weight=weight)\n",
    "optimizer = optim.SGD(model.parameters(), lr=0.01, momentum=0.9)\n",
    "scheduler = StepLR(optimizer, step_size=5, gamma=0.1)"
   ]
  },
  {
   "cell_type": "code",
   "execution_count": 17,
   "id": "42f240ef",
   "metadata": {},
   "outputs": [
    {
     "name": "stdout",
     "output_type": "stream",
     "text": [
      "0.4536082474226804\n",
      "0.5227082752855948\n",
      "0.5480635274449708\n",
      "0.5603232098077459\n",
      "0.5926441905823349\n",
      "0.6010030649205907\n",
      "0.5937587071607691\n",
      "0.6021175814990248\n",
      "0.6023962106436334\n",
      "0.6101978266926721\n",
      "0.6065756478127612\n",
      "0.604346614655893\n",
      "0.6082474226804123\n",
      "0.6082474226804123\n",
      "0.6093619392588465\n",
      "0.60490387294511\n",
      "0.6093619392588465\n",
      "0.6107550849818891\n",
      "0.6104764558372806\n",
      "0.6065756478127612\n",
      "Finished Training\n"
     ]
    }
   ],
   "source": [
    "no_epochs = 20\n",
    "training_loss = []\n",
    "val_loss = []\n",
    "val_acc = []\n",
    "train_acc = []\n",
    "\n",
    "for epoch in range(no_epochs): \n",
    "    scheduler.step()\n",
    "    running_loss = 0.0\n",
    "    running_loss_val = 0\n",
    "    running_loss_train = 0\n",
    "    correct_val = 0\n",
    "    total_val = 0\n",
    "    total_train = 0 \n",
    "    correct_train = 0\n",
    "    #print(f\"Epoch {epoch+1}\")\n",
    "    for i, data in enumerate(trainloader, 0):\n",
    "        inputs, labels = data\n",
    "\n",
    "        optimizer.zero_grad()\n",
    "\n",
    "        outputs = model(inputs)\n",
    "        \n",
    "        loss = criterion(outputs, labels)\n",
    "        loss.backward()\n",
    "        optimizer.step()\n",
    "        \n",
    "\n",
    "        running_loss += loss.item()\n",
    "        #if i % 2000 == 1999:    # print every 2000 mini-batches\n",
    "            #print(f'[{epoch + 1}, {i + 1:5d}] loss: {running_loss / 2000:.3f}')\n",
    "\n",
    "    with torch.no_grad():\n",
    "        for traindata in trainloader:\n",
    "            trainimages, trainlabels = traindata\n",
    "            trainoutputs = model(trainimages)\n",
    "            loss_train = criterion(trainoutputs, trainlabels)\n",
    "            running_loss_train += loss_train.item()\n",
    "            train_, trainpredicted = torch.max(trainoutputs.data, 1)\n",
    "            total_train += trainlabels.size(0)\n",
    "            correct_train += (trainpredicted == trainlabels).sum().item()\n",
    "            \n",
    "    with torch.no_grad():\n",
    "        for valdata in valloader:\n",
    "            valimages, vallabels = valdata\n",
    "            valoutputs = model(valimages)\n",
    "            loss_val = criterion(valoutputs, vallabels)\n",
    "            running_loss_val += loss_val.item()\n",
    "            val_, valpredicted = torch.max(valoutputs.data, 1)\n",
    "            total_val += vallabels.size(0)\n",
    "            correct_val += (valpredicted == vallabels).sum().item()\n",
    "    \n",
    "    print(correct_val/total_val)\n",
    "    training_loss.append(running_loss)\n",
    "    val_loss.append(running_loss_val)\n",
    "    val_acc.append(correct_val/total_val)\n",
    "    train_acc.append(correct_train/total_train)\n",
    "\n",
    "print('Finished Training')\n",
    "\n"
   ]
  },
  {
   "cell_type": "code",
   "execution_count": 18,
   "id": "0b6be3fb",
   "metadata": {},
   "outputs": [
    {
     "name": "stdout",
     "output_type": "stream",
     "text": [
      "Accuracy of the network on the test images: 61.46558930064085 %\n"
     ]
    }
   ],
   "source": [
    "model.eval()\n",
    "correct = 0\n",
    "total = 0\n",
    "with torch.no_grad():\n",
    "    for data in testloader:\n",
    "        images, labels = data\n",
    "        outputs = model(images)\n",
    "        _, predicted = torch.max(outputs.data, 1)\n",
    "        total += labels.size(0)\n",
    "        correct += (predicted == labels).sum().item()\n",
    "\n",
    "print(f'Accuracy of the network on the test images: {100 * correct / total} %')"
   ]
  },
  {
   "cell_type": "code",
   "execution_count": 19,
   "id": "87090b25",
   "metadata": {
    "scrolled": true
   },
   "outputs": [
    {
     "name": "stdout",
     "output_type": "stream",
     "text": [
      "Accuracy for class: Angry is 54.4 %\n",
      "Accuracy for class: Disgust is 38.2 %\n",
      "Accuracy for class: Fear  is 41.5 %\n",
      "Accuracy for class: Happy is 82.7 %\n",
      "Accuracy for class: Sad   is 48.8 %\n",
      "Accuracy for class: Surprise is 72.4 %\n",
      "Accuracy for class: Neutral is 60.9 %\n"
     ]
    }
   ],
   "source": [
    "classes = ('Angry', 'Disgust', 'Fear', 'Happy', 'Sad', 'Surprise', 'Neutral')\n",
    "\n",
    "correct_pred = {classname: 0 for classname in classes}\n",
    "total_pred = {classname: 0 for classname in classes}\n",
    "\n",
    "\n",
    "with torch.no_grad():\n",
    "    for data in testloader:\n",
    "        images, labels = data\n",
    "        outputs = model(images)\n",
    "        _, predictions = torch.max(outputs, 1)\n",
    "        for label, prediction in zip(labels, predictions):\n",
    "            if label == prediction:\n",
    "                correct_pred[classes[label]] += 1\n",
    "            total_pred[classes[label]] += 1\n",
    "\n",
    "\n",
    "# accuracy for each class\n",
    "for classname, correct_count in correct_pred.items():\n",
    "    accuracy = 100 * float(correct_count) / total_pred[classname]\n",
    "    print(f'Accuracy for class: {classname:5s} is {accuracy:.1f} %')"
   ]
  },
  {
   "cell_type": "code",
   "execution_count": 20,
   "id": "0b5d5e34",
   "metadata": {},
   "outputs": [
    {
     "data": {
      "text/plain": [
       "(0.0, 1.0)"
      ]
     },
     "execution_count": 20,
     "metadata": {},
     "output_type": "execute_result"
    },
    {
     "data": {
      "image/png": "[encoded data removed]",
      "text/plain": [
       "<Figure size 432x288 with 1 Axes>"
      ]
     },
     "metadata": {
      "needs_background": "light"
     },
     "output_type": "display_data"
    }
   ],
   "source": [
    "#plt.plot(training_loss)\n",
    "plt.ylabel(\"accuracy\")\n",
    "plt.xlabel(\"no of epochs\")\n",
    "plt.plot(train_acc,label=\"train\")\n",
    "plt.plot(val_acc,label=\"val\")\n",
    "plt.legend([\"train\",\"val\"])\n",
    "plt.ylim((0,1))"
   ]
  },
  {
   "cell_type": "code",
   "execution_count": 21,
   "id": "5e079be1",
   "metadata": {},
   "outputs": [
    {
     "data": {
      "text/plain": [
       "<AxesSubplot:>"
      ]
     },
     "execution_count": 21,
     "metadata": {},
     "output_type": "execute_result"
    },
    {
     "data": {
      "image/png": "[encoded data removed]",
      "text/plain": [
       "<Figure size 864x504 with 2 Axes>"
      ]
     },
     "metadata": {
      "needs_background": "light"
     },
     "output_type": "display_data"
    }
   ],
   "source": [
    "from sklearn.metrics import confusion_matrix\n",
    "import seaborn as sn\n",
    "\n",
    "\n",
    "y_pred = []\n",
    "y_true = []\n",
    "\n",
    "# iterate over test data\n",
    "for inputs, labels in testloader:\n",
    "        output = model(inputs) # Feed Network\n",
    "\n",
    "        output = (torch.max(torch.exp(output), 1)[1]).data.cpu().numpy()\n",
    "        y_pred.extend(output) # Save Prediction\n",
    "        \n",
    "        labels = labels.data.cpu().numpy()\n",
    "        y_true.extend(labels) # Save Truth\n",
    "\n",
    "\n",
    "# Build confusion matrix\n",
    "cf_matrix = confusion_matrix(y_true, y_pred)\n",
    "plt.figure(figsize = (12,7))\n",
    "sn.heatmap(cf_matrix, annot=True)"
   ]
  },
  {
   "cell_type": "code",
   "execution_count": 22,
   "id": "1ac85fe3",
   "metadata": {},
   "outputs": [
    {
     "data": {
      "text/plain": [
       "array([[267,   4,  53,  25,  78,   8,  56],\n",
       "       [ 19,  21,  11,   1,   2,   0,   1],\n",
       "       [ 71,   3, 219,  28, 109,  47,  51],\n",
       "       [ 28,   0,  25, 727,  31,  17,  51],\n",
       "       [ 62,   1,  77,  37, 290,   8, 119],\n",
       "       [ 13,   2,  46,  26,  12, 301,  16],\n",
       "       [ 54,   0,  36,  44, 101,  10, 381]], dtype=int64)"
      ]
     },
     "execution_count": 22,
     "metadata": {},
     "output_type": "execute_result"
    }
   ],
   "source": [
    "cf_matrix"
   ]
  },
  {
   "cell_type": "code",
   "execution_count": null,
   "id": "c35c1bda-7fe3-406e-9982-8aadb58d1d65",
   "metadata": {},
   "outputs": [],
   "source": []
  }
 ],
 "metadata": {
  "kernelspec": {
   "display_name": "Python 3 (ipykernel)",
   "language": "python",
   "name": "python3"
  },
  "language_info": {
   "codemirror_mode": {
    "name": "ipython",
    "version": 3
   },
   "file_extension": ".py",
   "mimetype": "text/x-python",
   "name": "python",
   "nbconvert_exporter": "python",
   "pygments_lexer": "ipython3",
   "version": "3.7.3"
  }
 },
 "nbformat": 4,
 "nbformat_minor": 5
}
